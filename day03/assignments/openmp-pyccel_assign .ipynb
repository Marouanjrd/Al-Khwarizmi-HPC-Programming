{
 "cells": [
  {
   "cell_type": "markdown",
   "id": "f03849c1",
   "metadata": {},
   "source": [
    "*Note: all those exercises should be done using python with pyccel openmp*"
   ]
  },
  {
   "cell_type": "markdown",
   "id": "a2db4b9c",
   "metadata": {},
   "source": [
    "## Exercise 1 Hello World\n",
    "\n",
    "1. Write an OpenMP program displaying the number of threads used for the execution and the rank of each of the threads.\n",
    "3. Test the programs obtained with different numbers of threads for the parallel program.\n",
    "\n",
    "**Output Example**\n",
    "```shell\n",
    ">> Python hello.py\n",
    "Hello from the rank 2 thread\n",
    "Hello from the rank 0 thread\n",
    "Hello from the rank 3 thread\n",
    "Hello from the rank 1 thread\n",
    "Hello from the rank 4 thread\n",
    "Parallel execution of hello_world with 4 threads\n",
    "```\n",
    "*Note that the output order maybe different*"
   ]
  },
  {
   "cell_type": "code",
   "execution_count": 31,
   "id": "7a1400d8",
   "metadata": {},
   "outputs": [],
   "source": [
    "import numpy as np\n",
    "import time\n",
    "from pyccel.epyccel import epyccel\n",
    "from pyccel.decorators import types"
   ]
  },
  {
   "cell_type": "code",
   "execution_count": 32,
   "id": "a7eeb409",
   "metadata": {},
   "outputs": [
    {
     "name": "stdout",
     "output_type": "stream",
     "text": [
      "Writing hello.py\n"
     ]
    }
   ],
   "source": [
    "%%file hello.py\n",
    "from pyccel.stdlib.internal.openmp import omp_set_num_threads, omp_set_dynamic\n",
    "from pyccel.decorators import types\n",
    "from pyccel.stdlib.internal.openmp import omp_set_num_threads, omp_get_num_threads, omp_get_thread_num\n",
    "\n",
    "@types('int')\n",
    "def get_num_threads(n):\n",
    "    #omp_set_dynamic(0)\n",
    "    omp_set_num_threads(int(n))\n",
    "    #$ omp parallel\n",
    "    print(\"Hello from this$ omp end parallele rank \", int(omp_get_thread_num()),\" thread\")\n",
    "    result = omp_get_num_threads()\n",
    "    #$ omp end parallel\n",
    "    \n",
    "    return result\n",
    "\n",
    "if __name__ == \"__main__\" :\n",
    "    x = get_num_threads(7)\n",
    "    print(\"parallel execution of hello_world with \",x , \"threads\")"
   ]
  },
  {
   "cell_type": "code",
   "execution_count": 33,
   "id": "977be3f7",
   "metadata": {},
   "outputs": [],
   "source": [
    "# enter command for compile and run the program\n",
    "!pyccel hello.py --language=c --openmp"
   ]
  },
  {
   "cell_type": "code",
   "execution_count": 34,
   "id": "588a6cfa",
   "metadata": {},
   "outputs": [
    {
     "name": "stdout",
     "output_type": "stream",
     "text": [
      "Hello from this$ omp end parallele rank  0  thread\r\n",
      "Hello from this$ omp end parallele rank  3  thread\r\n",
      "Hello from this$ omp end parallele rank  4  thread\r\n",
      "Hello from this$ omp end parallele rank  5  thread\r\n",
      "Hello from this$ omp end parallele rank  6  thread\r\n",
      "Hello from this$ omp end parallele rank  2  thread\r\n",
      "Hello from this$ omp end parallele rank  1  thread\r\n",
      "parallel execution of hello_world with  7 threads\r\n"
     ]
    }
   ],
   "source": [
    "!./hello"
   ]
  },
  {
   "cell_type": "markdown",
   "id": "0ee0d684",
   "metadata": {},
   "source": [
    "## Exercise 2 Matrix product\n",
    "\n",
    "Considering the following code for matrix product:\n",
    "\n",
    "1. Using pyccel, epyccelize the `matrix_prod` function, and time the execution of epyccelized function.\n",
    "2. Insert the appropriate OpenMP directives and analyse the code performance.\n",
    "3. Test the loop iteration repartition modes (`STATIC`, `DYNAMIC`, `GUIDED`) and vary the chunk sizes.\n",
    "**Example output**\n",
    "\n",
    "```bash\n",
    "   Value of M and N           : 20 20 \n",
    "    Temps elapsed              : 0.0009012222290039062 \n",
    "    Temps CPU                  : 0.0 \n",
    "    Partiel results            : 2790.0 2690.0 ... -3610.0 -4350.0 \n",
    "\n",
    " Execution of Matrix production in parallele with                     8 threads\n",
    "```"
   ]
  },
  {
   "cell_type": "code",
   "execution_count": 35,
   "id": "e94defd2",
   "metadata": {},
   "outputs": [
    {
     "name": "stdout",
     "output_type": "stream",
     "text": [
      "CPU times: user 19.3 ms, sys: 0 ns, total: 19.3 ms\n",
      "Wall time: 36.5 ms\n"
     ]
    }
   ],
   "source": [
    "def matrix_prod(A, B, C, N, M):\n",
    "    \n",
    "    for i in range( M ):\n",
    "        for j in range( N ):\n",
    "            A[ i, j ] = (i + 1) + (j + 1)\n",
    "\n",
    "    \n",
    "    for i in range( N ):\n",
    "        for j in range( M ):\n",
    "            B[ i, j ] = (i + 1) - (j + 1)\n",
    "\n",
    "    \n",
    "    for i in range( M ):\n",
    "        for j in range( M ):\n",
    "            C[ i, j ] = 0\n",
    "    # ...\n",
    "\n",
    "    # Matrix Production\n",
    "    \n",
    "    for i in range( M ):\n",
    "        for j in range( M ):\n",
    "            for k in range( N ):\n",
    "                C[ i, j ] += A[ i, k ] * B[ k, j ]\n",
    "\n",
    "\n",
    "\n",
    "\n",
    "if __name__ == \"__main__\":\n",
    "    import numpy as np\n",
    "    import time\n",
    "    import math\n",
    "\n",
    "    M = 20\n",
    "    N = 20\n",
    "\n",
    "    \n",
    "    A = np.empty((M, N), dtype=np.double)\n",
    "    B = np.empty((N, M), dtype=np.double)\n",
    "    C = np.empty((M, M), dtype=np.double)\n",
    "\n",
    "#  time of the matrix\n",
    "%time matrix_prod(A,B,C,N,M)"
   ]
  },
  {
   "cell_type": "markdown",
   "id": "5379e56e",
   "metadata": {},
   "source": [
    "## using PYCCEL"
   ]
  },
  {
   "cell_type": "code",
   "execution_count": 36,
   "id": "7b2003e4",
   "metadata": {},
   "outputs": [],
   "source": [
    "def matrix_prod_pyccel(A : 'float[:,:]', B : 'float[:,:]', C:'float[:,:]', N : 'int', M :'int'):\n",
    "    \n",
    "    for i in range( M ):\n",
    "        for j in range( N ):\n",
    "            A[ i, j ] = (i + 1) + (j + 1)\n",
    "\n",
    "    \n",
    "    for i in range( N ):\n",
    "        for j in range( M ):\n",
    "            B[ i, j ] = (i + 1) - (j + 1)\n",
    "\n",
    "    \n",
    "    for i in range( M ):\n",
    "        for j in range( M ):\n",
    "            C[ i, j ] = 0\n",
    "    # ...\n",
    "\n",
    "    # Matrix Production\n",
    "    \n",
    "    for i in range( M ):\n",
    "        for j in range( M ):\n",
    "            for k in range( N ):\n",
    "                C[ i, j ] += A[ i, k ] * B[ k, j ]"
   ]
  },
  {
   "cell_type": "code",
   "execution_count": 37,
   "id": "551a45a9",
   "metadata": {},
   "outputs": [],
   "source": [
    "import numpy as np\n",
    "import time\n",
    "import math\n",
    "\n",
    "M = 20\n",
    "N = 20\n",
    "\n",
    "# Declare Matrices\n",
    "A = np.empty((M, N), dtype=np.double)\n",
    "B = np.empty((N, M), dtype=np.double)\n",
    "C = np.empty((M, M), dtype=np.double) "
   ]
  },
  {
   "cell_type": "code",
   "execution_count": 38,
   "id": "589ec17e",
   "metadata": {},
   "outputs": [
    {
     "name": "stdout",
     "output_type": "stream",
     "text": [
      "CPU times: user 0 ns, sys: 135 µs, total: 135 µs\n",
      "Wall time: 6.44 ms\n"
     ]
    }
   ],
   "source": [
    "#  run and time the matrix_prod function\n",
    "matrix_prod_pyccel_form = epyccel(matrix_prod_pyccel)\n",
    "%time matrix_prod_pyccel_form(A,B,C,N,M)   "
   ]
  },
  {
   "cell_type": "markdown",
   "id": "4a776cad",
   "metadata": {},
   "source": [
    "## Using OpenMP "
   ]
  },
  {
   "cell_type": "code",
   "execution_count": 39,
   "id": "1ac86fcf",
   "metadata": {},
   "outputs": [
    {
     "name": "stdout",
     "output_type": "stream",
     "text": [
      "Writing matrice_prod.py\n"
     ]
    }
   ],
   "source": [
    "%%file matrice_prod.py\n",
    "from pyccel.stdlib.internal.openmp import omp_set_num_threads, omp_set_dynamic\n",
    "from pyccel.decorators import types\n",
    "from pyccel.stdlib.internal.openmp import omp_set_num_threads, omp_get_num_threads, omp_get_thread_num\n",
    "import numpy as np\n",
    "\n",
    "@types('int','int')\n",
    "def pro_mat_collaps(M,N):\n",
    "    \n",
    "    \n",
    "    print (\"N = \", N,\"  M = \", M,\"\\n\" )\n",
    "    \n",
    "    A = np.empty((M, N))\n",
    "    B = np.empty((N, M))\n",
    "    C = np.empty((M, M))\n",
    "    \n",
    "    \n",
    "    #$ omp parallel\n",
    "    #$ omp for collapse(2)\n",
    "    for i in range(M):\n",
    "        for j in range(N):\n",
    "            A[ i, j ] = (i + 1) + (j + 1)\n",
    "    #$ omp end parallel\n",
    "    \n",
    "\n",
    "    #$ omp parallel\n",
    "    #$ omp for collapse(2)\n",
    "    for i in range(N):\n",
    "        for j in range(M):\n",
    "            B[ i, j ] = (i + 1) - (j + 1)\n",
    "    #$ omp end parallel\n",
    "\n",
    "    #$ omp parallel\n",
    "    #$ omp for collapse(2)\n",
    "    for i in range( M ):\n",
    "        for j in range( M ):\n",
    "            C[ i, j ] = 0\n",
    "    #$ omp end parallel\n",
    "\n",
    "    \n",
    "    #$ omp parallel\n",
    "    #$ omp for collapse (2)\n",
    "    for i in range( M ):\n",
    "        for j in range( M ):\n",
    "            for k in range( N ):\n",
    "                C[ i, j ] += A[ i, k ] * B[ k, j ]\n",
    "    result = omp_get_num_threads()\n",
    "    #$ omp end parallel\n",
    "   \n",
    "    return result\n",
    "\n",
    "if __name__ == \"__main__\" :\n",
    "\n",
    "    M = 20\n",
    "    N = 20\n",
    "    # Declare Matrices\n",
    "\n",
    "    x = pro_mat_collaps(M,N)\n",
    "    print(\"Execution of Matrix production in parallele with  \",x , \"threads\\n\\n\")"
   ]
  },
  {
   "cell_type": "code",
   "execution_count": 41,
   "id": "4378140c",
   "metadata": {},
   "outputs": [],
   "source": [
    "# enter command for compile and run the program\n",
    "!pyccel matrice_prod.py --language=c --openmp"
   ]
  },
  {
   "cell_type": "code",
   "execution_count": 42,
   "id": "ad2a09a7",
   "metadata": {},
   "outputs": [
    {
     "name": "stdout",
     "output_type": "stream",
     "text": [
      "N =  20   M =  20 \n",
      "\n",
      "Execution of Matrix production in parallele with   8 threads\n",
      "\n",
      "\n",
      "CPU times: user 5.34 ms, sys: 4.62 ms, total: 9.95 ms\n",
      "Wall time: 147 ms\n"
     ]
    }
   ],
   "source": [
    "%time !export OMP_NUM_THREADS=8; ./matrice_prod"
   ]
  },
  {
   "cell_type": "markdown",
   "id": "db729e9b",
   "metadata": {},
   "source": [
    "## Exercise 3 Jacobi method\n",
    "\n",
    "Considering the following code for a general linear system solver:\n",
    "\n",
    "$$ A \\times x = b $$\n",
    "\n",
    "using the Jacobi iterative method.\n",
    "In this exercice, you must solve the system in parallel\n",
    "   \n",
    "**Example Output**\n",
    "    \n",
    "```bash\n",
    "System size    : 20 \n",
    " Iterations     : 21 \n",
    " Stand          : 2.9100049961372497e-08 \n",
    " Elapsed Time   : 7.447303771972656 \n",
    " CPU time       : 0.921875 \n",
    "```"
   ]
  },
  {
   "cell_type": "code",
   "execution_count": 43,
   "id": "a8af86ef",
   "metadata": {},
   "outputs": [
    {
     "name": "stdout",
     "output_type": "stream",
     "text": [
      "System size    : 20 \n",
      " Iterations     : 21 \n",
      " Stand          : 2.9100049961372497e-08 \n",
      " Elapsed Time   : 1.8009474277496338 \n",
      " CPU time       : 0.09848454900000014 \n",
      "\n"
     ]
    }
   ],
   "source": [
    "\n",
    "def jacobi(a:'float [:,:]',b:'float [:]', x:'float [:]', n:'int', eps:'float'):\n",
    "\n",
    "#     print(\"Execution of Jacobi in parallel with\", nb_tasks, \"threads\")\n",
    "    # Jacobi method resolution\n",
    "    import numpy as np\n",
    "    import math\n",
    "    x_courant = np.empty(n, dtype=np.double)\n",
    "    iteration = 0\n",
    "\n",
    "    #$ omp parallel\n",
    "    while(1):\n",
    "        \n",
    "        iteration += 1\n",
    "        \n",
    "        for i in range(n):\n",
    "            x_courant[i] = 0\n",
    "            for j in range(i):\n",
    "                x_courant[i] += a[ j, i ] * x[j]\n",
    "\n",
    "            for j in range(i + 1, n):\n",
    "                x_courant[i] += a[ j, i ] * x[j]\n",
    "\n",
    "            x_courant[i] = (b[i] - x_courant[i]) / a[ i, i ]\n",
    "\n",
    "        # Convergence test\n",
    "        \n",
    "        absmax = 0.\n",
    "        for i in range(n):\n",
    "            curr = abs(x[i] - x_courant[i])\n",
    "            if curr > absmax:\n",
    "                absmax = curr\n",
    "        stand = absmax / n\n",
    "        if stand <= eps or iteration > n:\n",
    "            break\n",
    "\n",
    "        # copy x_courant into x\n",
    "        for i in range(n):\n",
    "            x [i] = x_courant[i]\n",
    "            \n",
    "    #$ omp end parallel    \n",
    "            \n",
    "    return stand, iteration\n",
    "\n",
    "\n",
    "if __name__ == \"__main__\":\n",
    "\n",
    "    import numpy as np\n",
    "    import time, random, math, sys\n",
    "\n",
    "    # Matrix default dimension\n",
    "    n = 20\n",
    "    diag = 20\n",
    "\n",
    "    # Initialize of the matrices\n",
    "    np.random.seed(421)  # for reproductibles results\n",
    "    a = np.random.uniform(0, 1, size=(n, n))\n",
    "    b = np.random.uniform(0, 1, size=n)\n",
    "\n",
    "    # We strengthen the main diagonal of the matrix\n",
    "    for i in range(n):\n",
    "        a[ i, i ] += diag\n",
    "\n",
    "    # Initial solution\n",
    "    x = np.ones(n, dtype=np.double)\n",
    "\n",
    "    # start CPU timing\n",
    "    cpu_0 = time.process_time()\n",
    "\n",
    "    # start Wall timing\n",
    "    elapsed_0 = time.time()\n",
    "\n",
    "    # using pyccel\n",
    "    from pyccel.epyccel import epyccel\n",
    "    pyccel_jacobi = epyccel(jacobi, language='c', accelerators=['openmp'])\n",
    "\n",
    "    eps = sys.float_info.epsilon\n",
    "\n",
    "    # -------------------- computing ------------------\n",
    "    stand, iteration = pyccel_jacobi(a, b, x, n, eps)\n",
    "    # ------------------ End computing ----------------\n",
    "\n",
    "    # CPU time\n",
    "    cpu_1 = time.process_time()\n",
    "    cpu = cpu_1 - cpu_0\n",
    "\n",
    "    # Wall timing\n",
    "    elapsed_1 = time.time()\n",
    "    elapsed = elapsed_1 - elapsed_0\n",
    "\n",
    "    print(\n",
    "        \"System size    :\", n,          '\\n',\n",
    "        \"Iterations     :\", iteration,  '\\n',\n",
    "        \"Stand          :\", stand,      '\\n',\n",
    "        \"Elapsed Time   :\", elapsed,    '\\n',\n",
    "        \"CPU time       :\", cpu,        '\\n'\n",
    "    )"
   ]
  },
  {
   "cell_type": "markdown",
   "id": "acd992ae",
   "metadata": {},
   "source": [
    "## Exercise 4 Calculation of π\n",
    "\n",
    "The aim of this exercise is to calculate π by numerical integration knowing that Considering the following code for matrix product: $\\int_{0}^{1} \\frac{4}{1 + x^2} = {\\pi} $\n",
    "\n",
    "The following program is for calculating the value of\n",
    "π by the rectangle method (mid-point). Let $f(x) = \\frac{4}{1 + x^2} $\n",
    "2 be the function to integrate, N and $ h = \\frac{1}{N} $ (respectively) the number of points, and the discretization width on the integration\n",
    "interval $[0, 1]$.\n",
    "\n",
    "Analyse the performance of the codes, then optimise  your code using OpenMP directives."
   ]
  },
  {
   "cell_type": "code",
   "execution_count": 55,
   "id": "c2773e5e",
   "metadata": {},
   "outputs": [
    {
     "name": "stdout",
     "output_type": "stream",
     "text": [
      "Writing pi.py\n"
     ]
    }
   ],
   "source": [
    "%%file pi.py\n",
    "from pyccel.decorators import types\n",
    "\n",
    "@types('int')\n",
    "def pi(n):\n",
    "\n",
    "    h = float(1/n)\n",
    "    for k in range(100):\n",
    "        Pi_calcul = 0.\n",
    "        for i in range(n):\n",
    "            x = h * (i + 0.5)\n",
    "            Pi_calcul += 4.0 / (1. + x * x)\n",
    "\n",
    "\n",
    "        Pi_calcul = h * Pi_calcul\n",
    "    return Pi_calcul"
   ]
  },
  {
   "cell_type": "code",
   "execution_count": 56,
   "id": "f142a73b",
   "metadata": {},
   "outputs": [],
   "source": [
    "from pi import *"
   ]
  },
  {
   "cell_type": "code",
   "execution_count": 57,
   "id": "cab456fb",
   "metadata": {},
   "outputs": [
    {
     "data": {
      "text/plain": [
       "3.1623529411764704"
      ]
     },
     "execution_count": 57,
     "metadata": {},
     "output_type": "execute_result"
    }
   ],
   "source": [
    "pi(2)"
   ]
  },
  {
   "cell_type": "code",
   "execution_count": 61,
   "id": "38eb3ebe",
   "metadata": {},
   "outputs": [
    {
     "ename": "TypeError",
     "evalue": "'module' object is not callable",
     "output_type": "error",
     "traceback": [
      "\u001b[0;31m---------------------------------------------------------------------------\u001b[0m",
      "\u001b[0;31mTypeError\u001b[0m                                 Traceback (most recent call last)",
      "Input \u001b[0;32mIn [61]\u001b[0m, in \u001b[0;36m<cell line: 3>\u001b[0;34m()\u001b[0m\n\u001b[1;32m     26\u001b[0m t_elapsed_0 \u001b[38;5;241m=\u001b[39m time\u001b[38;5;241m.\u001b[39mtime()    \n\u001b[1;32m     27\u001b[0m  \u001b[38;5;66;03m# -------------------- computing ------------------\u001b[39;00m\n\u001b[0;32m---> 29\u001b[0m Pi_calc \u001b[38;5;241m=\u001b[39m \u001b[43mpyccel_pi\u001b[49m\u001b[43m(\u001b[49m\u001b[43mn\u001b[49m\u001b[43m)\u001b[49m\n\u001b[1;32m     31\u001b[0m \u001b[38;5;66;03m# ------------------ End computing ----------------\u001b[39;00m\n\u001b[1;32m     32\u001b[0m \n\u001b[1;32m     33\u001b[0m \u001b[38;5;66;03m# CPU time spent\u001b[39;00m\n\u001b[1;32m     34\u001b[0m tcpu_1 \u001b[38;5;241m=\u001b[39m time\u001b[38;5;241m.\u001b[39mprocess_time()\n",
      "\u001b[0;31mTypeError\u001b[0m: 'module' object is not callable"
     ]
    }
   ],
   "source": [
    "import time, math\n",
    "\n",
    "if __name__ == '__main__':\n",
    "    #                  __\n",
    "    #  But : calcul de || par la methode des rectangles (point milieu).\n",
    "    #\n",
    "    #                   / 1\n",
    "    #                  |       4            __\n",
    "    #                  |   ----------  dx = ||\n",
    "    #                  |    1 + x**2\n",
    "    #                 / 0\n",
    "\n",
    "\n",
    "    n = 300\n",
    "\n",
    "    # Length of the integration interval\n",
    "    h = 1.0 / n\n",
    "\n",
    "    from pyccel.epyccel import epyccel\n",
    "    import pi\n",
    "    \n",
    "    pyccel_pi = epyccel(pi, language='c', accelerators=['openmp'])\n",
    "\n",
    "    # start timing\n",
    "    tcpu_0 = time.process_time() \n",
    "    t_elapsed_0 = time.time()    \n",
    "     # -------------------- computing ------------------\n",
    "\n",
    "    Pi_calc = pyccel_pi(n)\n",
    "\n",
    "    # ------------------ End computing ----------------\n",
    "\n",
    "    # CPU time spent\n",
    "    tcpu_1 = time.process_time()\n",
    "    tcpu = tcpu_1 - tcpu_0\n",
    "\n",
    "    # Wall time spent\n",
    "    t_elapsed_1 = time.time()\n",
    "    t_elapsed = t_elapsed_1 - t_elapsed_0\n",
    "\n",
    "    # deviation between the estimated value and the calculated value of Pi\n",
    "    Pi_estime = math.acos(-1)\n",
    "    deviat = math.fabs(Pi_estime -  Pi_calc)\n",
    "\n",
    "    # Print result\n",
    "    print(\n",
    "      \"   Number of intervals        :\", n,         \"\\n\",\n",
    "      \"   | Pi_estime - Pi_calcule | :\", deviat,    \"\\n\",\n",
    "      \"   Temps elapsed              :\", t_elapsed, \"\\n\",\n",
    "      \"   Temps CPU                  :\", tcpu,      \"\\n\",\n",
    "    )"
   ]
  },
  {
   "cell_type": "markdown",
   "id": "54e9a63a",
   "metadata": {},
   "source": [
    "## Exercise 5 Reduction of an array\n",
    "\n",
    "The given program contained in the `reduction_tab.py` file is extracted from a chemistry code. It reduces a three-dimensional array into a vector. The aim of this exercise is to parallelize this calculation kernel without changing the loop order in the provided code (i.e. k,j,i)\n",
    "\n",
    "1. Analyse the data-sharing attributes of the variables and adapt the source code so that the K outermost loop is parallelized.\n",
    "2. Compare the performance obtained by using the thread/core binding default execution on Ada and by using scatter binding. Suggest an explanation for the poor performance of the latter.\n",
    "3. Optimise the source code for the scatter mode with taking into account the memory affinity. Why does this third series of executions give the best performance "
   ]
  },
  {
   "cell_type": "code",
   "execution_count": 65,
   "id": "9b9fdd28",
   "metadata": {},
   "outputs": [
    {
     "name": "stdout",
     "output_type": "stream",
     "text": [
      "Writing reduction_tab1.py\n"
     ]
    }
   ],
   "source": [
    "%%file reduction_tab.py\n",
    "\n",
    "from pyccel.stdlib.internal.openmp import omp_get_thread_num\n",
    "from pyccel.decorators import types\n",
    "\n",
    "\n",
    "def initialize_table(tab, nmolec, n, nmol):\n",
    "    # Initialisation du tableau\n",
    "    # First-touch pour garantir un fonctionnement optimal sur les systemes NUMA\n",
    "    for k in range(nmolec):\n",
    "        for j in range(n):\n",
    "            for i in range(nmol):\n",
    "                tab[ i,j,k ] = i + j + k\n",
    "\n",
    "\n",
    "def reduction(tab:'float [:,:]', tab1 : 'float [:]', tab2 : 'float [:]', nmolec :'int', nmol:'int', n:'int'):\n",
    "    for k in range(nmolec):\n",
    "        tab1[:nmol] = 0\n",
    "        for j in range(n):\n",
    "            for i in range(nmol):\n",
    "                tab1[i] = tab1[i] + tab[i,j,k]\n",
    "        tab2[:nmol] = tab2[:nmol] + 2 * tab1[:nmol]\n",
    "        \n"
   ]
  },
  {
   "cell_type": "code",
   "execution_count": 67,
   "id": "659bd746",
   "metadata": {
    "scrolled": true
   },
   "outputs": [
    {
     "ename": "NameError",
     "evalue": "name 'reduction' is not defined",
     "output_type": "error",
     "traceback": [
      "\u001b[0;31m---------------------------------------------------------------------------\u001b[0m",
      "\u001b[0;31mNameError\u001b[0m                                 Traceback (most recent call last)",
      "Input \u001b[0;32mIn [67]\u001b[0m, in \u001b[0;36m<cell line: 3>\u001b[0;34m()\u001b[0m\n\u001b[1;32m     17\u001b[0m \u001b[38;5;28;01mfrom\u001b[39;00m \u001b[38;5;21;01mpyccel\u001b[39;00m\u001b[38;5;21;01m.\u001b[39;00m\u001b[38;5;21;01mepyccel\u001b[39;00m \u001b[38;5;28;01mimport\u001b[39;00m epyccel\n\u001b[1;32m     18\u001b[0m \u001b[38;5;28;01mimport\u001b[39;00m  \u001b[38;5;21;01mreduction_tab\u001b[39;00m\n\u001b[0;32m---> 20\u001b[0m reduction_puccel \u001b[38;5;241m=\u001b[39m epyccel(\u001b[43mreduction\u001b[49m, language\u001b[38;5;241m=\u001b[39m\u001b[38;5;124m'\u001b[39m\u001b[38;5;124mc\u001b[39m\u001b[38;5;124m'\u001b[39m, accelerators\u001b[38;5;241m=\u001b[39m[\u001b[38;5;124m'\u001b[39m\u001b[38;5;124mopenmp\u001b[39m\u001b[38;5;124m'\u001b[39m])\n\u001b[1;32m     23\u001b[0m \u001b[38;5;66;03m# initialize tab \u001b[39;00m\n\u001b[1;32m     24\u001b[0m initialize_table(tab, nmol, n, nmolec)\n",
      "\u001b[0;31mNameError\u001b[0m: name 'reduction' is not defined"
     ]
    }
   ],
   "source": [
    "from os import error\n",
    "\n",
    "if __name__ == '__main__':\n",
    "    import numpy as np\n",
    "    import time\n",
    "\n",
    "    # default dimension\n",
    "    nmolec = 100\n",
    "    nmol   = 100\n",
    "    n      = 10\n",
    "\n",
    "    tab     = np.empty((nmol, n, nmolec), dtype=np.double)\n",
    "    tab1    = np.empty((nmol), dtype=np.double)\n",
    "    tab2    = np.zeros((nmol), dtype=np.double)\n",
    "\n",
    "    # using pyccel\n",
    "    from pyccel.epyccel import epyccel\n",
    "    import  reduction_tab\n",
    "    \n",
    "    reduction_puccel = epyccel(reduction, language='c', accelerators=['openmp'])\n",
    "    \n",
    "\n",
    "    # initialize tab \n",
    "    initialize_table(tab, nmol, n, nmolec)\n",
    "\n",
    "    # start timing\n",
    "    tcpu_0 = time.process_time() \n",
    "    t_elapsed_0 = time.time()    \n",
    "\n",
    "    # -------------------- computing ------------------\n",
    "    reduction.reduction(tab, tab1, tab2, nmolec, nmol, n)\n",
    "    # ------------------ End computing ----------------\n",
    "\n",
    "    # CPU time spent\n",
    "    tcpu_1 = time.process_time()\n",
    "    tcpu = tcpu_1 - tcpu_0\n",
    "\n",
    "    # Wall time spent\n",
    "    t_elapsed_1 = time.time()\n",
    "    t_elapsed = t_elapsed_1 - t_elapsed_0\n",
    "\n",
    "    # verification of results\n",
    "    tab2c = np.zeros((nmol), dtype=np.double)\n",
    "    for k in range(nmolec):\n",
    "        tab1c = np.zeros((nmol), dtype=np.double)\n",
    "        for j in range(n):\n",
    "            for i in range(nmol):\n",
    "                tab1c[i] = tab1c[i] + tab[i, j, k]\n",
    "        tab2c [:] = tab2c[:nmol] + 2 * tab1c[:]\n",
    "    err = np.max(np.abs(tab2c - tab2) / np.abs(tab2c))\n",
    "    print(\n",
    "        \"Temps elapsed  :\", t_elapsed   , \"\\n\",\n",
    "        \"Temps CPU      :\", tcpu        , \"\\n\",\n",
    "        \"Erreur relative:\", err         , \"\\n\"\n",
    "    )"
   ]
  },
  {
   "cell_type": "markdown",
   "id": "4045d2e1",
   "metadata": {},
   "source": [
    "# Exercise 6 Matrix product by the Strassen algorithm\n",
    "\n",
    "Considering the following code that calculates the matrix product :\n",
    "\n",
    "$$C = A \\times B$$\n",
    "\n",
    "by using Strassen’s recursive algorithm.\n",
    "\n",
    "In this exercise, you must :\n",
    "1. Analyse and parallelize the code by using OpenMP tasks.\n",
    "2. Measure the code performance and plot the speedup curves obtained."
   ]
  },
  {
   "cell_type": "code",
   "execution_count": 69,
   "id": "bd9c8a80",
   "metadata": {},
   "outputs": [
    {
     "name": "stdout",
     "output_type": "stream",
     "text": [
      "\n",
      "ERROR at annotation (semantic) stage\n",
      "\u001b[1mpyccel\u001b[0m:\n",
      " |\u001b[1m\u001b[5m\u001b[31merror\u001b[0m [semantic]: mod_yvpdxl36zajk_yvpdxl36zajk.py [1]| Function is missing a type annotation (strassen_multiply)\n",
      " |\u001b[1m\u001b[5m\u001b[31mfatal\u001b[0m [semantic]: mod_yvpdxl36zajk_yvpdxl36zajk.py [5,7]| Undefined variable (n)\n",
      "\n"
     ]
    },
    {
     "ename": "PyccelSemanticError",
     "evalue": "Semantic step failed",
     "output_type": "error",
     "traceback": [
      "\u001b[0;31m---------------------------------------------------------------------------\u001b[0m",
      "\u001b[0;31mPyccelSemanticError\u001b[0m                       Traceback (most recent call last)",
      "Input \u001b[0;32mIn [69]\u001b[0m, in \u001b[0;36m<cell line: 62>\u001b[0;34m()\u001b[0m\n\u001b[1;32m     69\u001b[0m C \u001b[38;5;241m=\u001b[39m np\u001b[38;5;241m.\u001b[39mempty((n,n), dtype\u001b[38;5;241m=\u001b[39mnp\u001b[38;5;241m.\u001b[39mdouble)\n\u001b[1;32m     71\u001b[0m \u001b[38;5;28;01mfrom\u001b[39;00m \u001b[38;5;21;01mpyccel\u001b[39;00m\u001b[38;5;21;01m.\u001b[39;00m\u001b[38;5;21;01mepyccel\u001b[39;00m \u001b[38;5;28;01mimport\u001b[39;00m epyccel\n\u001b[0;32m---> 72\u001b[0m strassen_pyccel \u001b[38;5;241m=\u001b[39m \u001b[43mepyccel\u001b[49m\u001b[43m(\u001b[49m\u001b[43mstrassen_multiply\u001b[49m\u001b[43m,\u001b[49m\u001b[43m \u001b[49m\u001b[43maccelerators\u001b[49m\u001b[38;5;241;43m=\u001b[39;49m\u001b[43m[\u001b[49m\u001b[38;5;124;43m'\u001b[39;49m\u001b[38;5;124;43mopenmp\u001b[39;49m\u001b[38;5;124;43m'\u001b[39;49m\u001b[43m]\u001b[49m\u001b[43m)\u001b[49m\n\u001b[1;32m     73\u001b[0m num_thread_pyccel \u001b[38;5;241m=\u001b[39m epyccel(threads_num, accelerators\u001b[38;5;241m=\u001b[39m[\u001b[38;5;124m'\u001b[39m\u001b[38;5;124mopenmp\u001b[39m\u001b[38;5;124m'\u001b[39m])\n\u001b[1;32m     74\u001b[0m \u001b[38;5;28mprint\u001b[39m(\u001b[38;5;124m\"\u001b[39m\u001b[38;5;124mExecution of Strassen in parallele with\u001b[39m\u001b[38;5;124m\"\u001b[39m, num_threads(), \u001b[38;5;124m\"\u001b[39m\u001b[38;5;124mthreads\u001b[39m\u001b[38;5;124m\"\u001b[39m)\n",
      "File \u001b[0;32m~/.local/lib/python3.8/site-packages/pyccel/epyccel.py:333\u001b[0m, in \u001b[0;36mepyccel\u001b[0;34m(python_function_or_module, **kwargs)\u001b[0m\n\u001b[1;32m    329\u001b[0m             fun \u001b[38;5;241m=\u001b[39m \u001b[38;5;28mgetattr\u001b[39m(mod, fun_name) \u001b[38;5;28;01mif\u001b[39;00m fun_name \u001b[38;5;28;01melse\u001b[39;00m \u001b[38;5;28;01mNone\u001b[39;00m\n\u001b[1;32m    331\u001b[0m \u001b[38;5;66;03m# Serial version\u001b[39;00m\n\u001b[1;32m    332\u001b[0m \u001b[38;5;28;01melse\u001b[39;00m:\n\u001b[0;32m--> 333\u001b[0m     mod, fun \u001b[38;5;241m=\u001b[39m \u001b[43mepyccel_seq\u001b[49m\u001b[43m(\u001b[49m\u001b[43m \u001b[49m\u001b[43mpython_function_or_module\u001b[49m\u001b[43m,\u001b[49m\u001b[43m \u001b[49m\u001b[38;5;241;43m*\u001b[39;49m\u001b[38;5;241;43m*\u001b[39;49m\u001b[43mkwargs\u001b[49m\u001b[43m \u001b[49m\u001b[43m)\u001b[49m\n\u001b[1;32m    335\u001b[0m \u001b[38;5;66;03m# Return Fortran function (if any), otherwise module\u001b[39;00m\n\u001b[1;32m    336\u001b[0m \u001b[38;5;28;01mreturn\u001b[39;00m fun \u001b[38;5;129;01mor\u001b[39;00m mod\n",
      "File \u001b[0;32m~/.local/lib/python3.8/site-packages/pyccel/epyccel.py:168\u001b[0m, in \u001b[0;36mepyccel_seq\u001b[0;34m(function_or_module, language, compiler, fflags, wrapper_flags, accelerators, verbose, debug, includes, libdirs, modules, libs, folder)\u001b[0m\n\u001b[1;32m    164\u001b[0m     f\u001b[38;5;241m.\u001b[39mwritelines(code)\n\u001b[1;32m    166\u001b[0m \u001b[38;5;28;01mtry\u001b[39;00m:\n\u001b[1;32m    167\u001b[0m     \u001b[38;5;66;03m# Generate shared library\u001b[39;00m\n\u001b[0;32m--> 168\u001b[0m     \u001b[43mexecute_pyccel\u001b[49m\u001b[43m(\u001b[49m\u001b[43mpymod_filename\u001b[49m\u001b[43m,\u001b[49m\n\u001b[1;32m    169\u001b[0m \u001b[43m                   \u001b[49m\u001b[43mverbose\u001b[49m\u001b[43m       \u001b[49m\u001b[38;5;241;43m=\u001b[39;49m\u001b[43m \u001b[49m\u001b[43mverbose\u001b[49m\u001b[43m,\u001b[49m\n\u001b[1;32m    170\u001b[0m \u001b[43m                   \u001b[49m\u001b[43mlanguage\u001b[49m\u001b[43m      \u001b[49m\u001b[38;5;241;43m=\u001b[39;49m\u001b[43m \u001b[49m\u001b[43mlanguage\u001b[49m\u001b[43m,\u001b[49m\n\u001b[1;32m    171\u001b[0m \u001b[43m                   \u001b[49m\u001b[43mcompiler\u001b[49m\u001b[43m      \u001b[49m\u001b[38;5;241;43m=\u001b[39;49m\u001b[43m \u001b[49m\u001b[43mcompiler\u001b[49m\u001b[43m,\u001b[49m\n\u001b[1;32m    172\u001b[0m \u001b[43m                   \u001b[49m\u001b[43mfflags\u001b[49m\u001b[43m        \u001b[49m\u001b[38;5;241;43m=\u001b[39;49m\u001b[43m \u001b[49m\u001b[43mfflags\u001b[49m\u001b[43m,\u001b[49m\n\u001b[1;32m    173\u001b[0m \u001b[43m                   \u001b[49m\u001b[43mwrapper_flags\u001b[49m\u001b[43m \u001b[49m\u001b[38;5;241;43m=\u001b[39;49m\u001b[43m \u001b[49m\u001b[43mwrapper_flags\u001b[49m\u001b[43m,\u001b[49m\n\u001b[1;32m    174\u001b[0m \u001b[43m                   \u001b[49m\u001b[43mincludes\u001b[49m\u001b[43m      \u001b[49m\u001b[38;5;241;43m=\u001b[39;49m\u001b[43m \u001b[49m\u001b[43mincludes\u001b[49m\u001b[43m,\u001b[49m\n\u001b[1;32m    175\u001b[0m \u001b[43m                   \u001b[49m\u001b[43mlibdirs\u001b[49m\u001b[43m       \u001b[49m\u001b[38;5;241;43m=\u001b[39;49m\u001b[43m \u001b[49m\u001b[43mlibdirs\u001b[49m\u001b[43m,\u001b[49m\n\u001b[1;32m    176\u001b[0m \u001b[43m                   \u001b[49m\u001b[43mmodules\u001b[49m\u001b[43m       \u001b[49m\u001b[38;5;241;43m=\u001b[39;49m\u001b[43m \u001b[49m\u001b[43mmodules\u001b[49m\u001b[43m,\u001b[49m\n\u001b[1;32m    177\u001b[0m \u001b[43m                   \u001b[49m\u001b[43mlibs\u001b[49m\u001b[43m          \u001b[49m\u001b[38;5;241;43m=\u001b[39;49m\u001b[43m \u001b[49m\u001b[43mlibs\u001b[49m\u001b[43m,\u001b[49m\n\u001b[1;32m    178\u001b[0m \u001b[43m                   \u001b[49m\u001b[43mdebug\u001b[49m\u001b[43m         \u001b[49m\u001b[38;5;241;43m=\u001b[39;49m\u001b[43m \u001b[49m\u001b[43mdebug\u001b[49m\u001b[43m,\u001b[49m\n\u001b[1;32m    179\u001b[0m \u001b[43m                   \u001b[49m\u001b[43maccelerators\u001b[49m\u001b[43m  \u001b[49m\u001b[38;5;241;43m=\u001b[39;49m\u001b[43m \u001b[49m\u001b[43maccelerators\u001b[49m\u001b[43m,\u001b[49m\n\u001b[1;32m    180\u001b[0m \u001b[43m                   \u001b[49m\u001b[43moutput_name\u001b[49m\u001b[43m   \u001b[49m\u001b[38;5;241;43m=\u001b[39;49m\u001b[43m \u001b[49m\u001b[43mmodule_name\u001b[49m\u001b[43m)\u001b[49m\n\u001b[1;32m    181\u001b[0m \u001b[38;5;28;01mfinally\u001b[39;00m:\n\u001b[1;32m    182\u001b[0m     \u001b[38;5;66;03m# Change working directory back to starting point\u001b[39;00m\n\u001b[1;32m    183\u001b[0m     os\u001b[38;5;241m.\u001b[39mchdir(base_dirpath)\n",
      "File \u001b[0;32m~/.local/lib/python3.8/site-packages/pyccel/codegen/pipeline.py:242\u001b[0m, in \u001b[0;36mexecute_pyccel\u001b[0;34m(fname, syntax_only, semantic_only, convert_only, verbose, folder, language, compiler, fflags, wrapper_flags, includes, libdirs, modules, libs, debug, accelerators, output_name, compiler_export_file)\u001b[0m\n\u001b[1;32m    240\u001b[0m     handle_error(\u001b[38;5;124m'\u001b[39m\u001b[38;5;124mannotation (semantic)\u001b[39m\u001b[38;5;124m'\u001b[39m)\n\u001b[1;32m    241\u001b[0m     \u001b[38;5;66;03m# Raise a new error to avoid a large traceback\u001b[39;00m\n\u001b[0;32m--> 242\u001b[0m     \u001b[38;5;28;01mraise\u001b[39;00m PyccelSemanticError(\u001b[38;5;124m'\u001b[39m\u001b[38;5;124mSemantic step failed\u001b[39m\u001b[38;5;124m'\u001b[39m) \u001b[38;5;28;01mfrom\u001b[39;00m \u001b[38;5;28mNone\u001b[39m\n\u001b[1;32m    244\u001b[0m \u001b[38;5;28;01mif\u001b[39;00m errors\u001b[38;5;241m.\u001b[39mhas_errors():\n\u001b[1;32m    245\u001b[0m     handle_error(\u001b[38;5;124m'\u001b[39m\u001b[38;5;124mannotation (semantic)\u001b[39m\u001b[38;5;124m'\u001b[39m)\n",
      "\u001b[0;31mPyccelSemanticError\u001b[0m: Semantic step failed"
     ]
    }
   ],
   "source": [
    "import time, math\n",
    "import numpy as np\n",
    "from pyccel.epyccel import epyccel\n",
    "from pyccel.decorators import types\n",
    "\n",
    "def threads_num():\n",
    "#     complete this function for getting threads num\n",
    "    res = opm_get_thread_num()\n",
    "    return res\n",
    "\n",
    "\n",
    "\n",
    "def strassen_multiply(A, B, C, n):\n",
    "\n",
    "    \n",
    "    import numpy as np\n",
    "    if n & 1 != 0  or n < 128:\n",
    "        C[:] = np.matmul(A, B)\n",
    "    else:\n",
    "        n2 = n // 2\n",
    "        A11 = A[ 0:n2, 0:n2 ]\n",
    "        A21 = A[ n2:n, 0:n2 ]\n",
    "        A12 = A[ 0:n2, n2:n ]\n",
    "        A22 = A[ n2:n, n2:n ]\n",
    "        B11 = B[ 0:n2, 0:n2 ]\n",
    "        B21 = B[ n2:n, 0:n2 ]\n",
    "        B12 = B[ 0:n2, n2:n ]\n",
    "        B22 = B[ n2:n, n2:n ]\n",
    "\n",
    "        Q1 = np.empty((n2, n2), dtype=np.double)\n",
    "        Q2 = np.empty((n2, n2), dtype=np.double)\n",
    "        Q3 = np.empty((n2, n2), dtype=np.double)\n",
    "        Q4 = np.empty((n2, n2), dtype=np.double)\n",
    "        Q5 = np.empty((n2, n2), dtype=np.double)\n",
    "        Q6 = np.empty((n2, n2), dtype=np.double)\n",
    "        Q7 = np.empty((n2, n2), dtype=np.double)\n",
    "        \n",
    "        strassen_multiply(A11+A22, B11+B22, Q1, n2)\n",
    "        strassen_multiply(A21+A22, B11, Q2, n2)\n",
    "        strassen_multiply(A11, B12-B22, Q3, n2)\n",
    "        strassen_multiply(A22, -B11+B21, Q4, n2) \n",
    "        strassen_multiply(A11+A12, B22, Q5, n2)\n",
    "        strassen_multiply(-A11+A21, B11+B12, Q6, n2)\n",
    "        strassen_multiply(A12-A22, B21+B22, Q7, n2)\n",
    "        C[   :n2,   :n2 ] = Q1+Q4-Q5+Q7\n",
    "        C[ n2: n,   :n2 ] = Q2+Q4\n",
    "        C[   :n2, n2:n  ] = Q3+Q5\n",
    "        C[ n2:n , n2:n  ] = Q1+Q3-Q2+Q6\n",
    "\n",
    "\n",
    "def calcul_erreur(n, A, B, C):\n",
    "    D = np.matmul(A, B) \n",
    "    error = 0.0\n",
    "    for i in range(n):\n",
    "        for j in range(n):\n",
    "            e = C[ i, j ] - D[ i, j ]\n",
    "            error += e * e\n",
    "\n",
    "    error = math.sqrt(error) / n\n",
    "    return error\n",
    "\n",
    "if __name__ == '__main__':\n",
    "    n = 256\n",
    "\n",
    "    # Initialize Matrices\n",
    "    np.random.seed(421)\n",
    "    A = np.random.uniform(0, 1, (n, n))\n",
    "    B = np.random.uniform(0, 1, (n, n))\n",
    "    C = np.empty((n,n), dtype=np.double)\n",
    "\n",
    "    from pyccel.epyccel import epyccel\n",
    "    strassen_pyccel = epyccel(strassen_multiply, accelerators=['openmp'])\n",
    "    num_thread_pyccel = epyccel(threads_num, accelerators=['openmp'])\n",
    "    print(\"Execution of Strassen in parallele with\", num_threads(), \"threads\")\n",
    "    \n",
    "    \n",
    "    # Start timing\n",
    "    tcpu_0 = time.process_time() # CPU time\n",
    "    t_elapsed_0 = time.time()    # Wall time\n",
    "    # -------------------- computing ------------------\n",
    "    # Calcul C=A*B par la methode recursive de Strassen\n",
    "    strassen_pyccel(A, B, C, n)\n",
    "    # ------------------ end computing ----------------\n",
    "    # CPU time spent\n",
    "    tcpu_1 = time.process_time()\n",
    "    tcpu = tcpu_1 - tcpu_0\n",
    "\n",
    "    # Wall time spent\n",
    "    t_elapsed_1 = time.time()\n",
    "    t_elapsed = t_elapsed_1 - t_elapsed_0\n",
    "    # Print result\n",
    "    print(\n",
    "      \"   Erreur        :\", calcul_erreur(n, A, B, C),  \"\\n\",\n",
    "\t  \"   Temps elapsed :\", t_elapsed,                  \"\\n\",\n",
    "\t  \"   Temps CPU     :\", tcpu,                       \"\\n\",\n",
    "    )\n"
   ]
  }
 ],
 "metadata": {
  "kernelspec": {
   "display_name": "Python 3 (ipykernel)",
   "language": "python",
   "name": "python3"
  },
  "language_info": {
   "codemirror_mode": {
    "name": "ipython",
    "version": 3
   },
   "file_extension": ".py",
   "mimetype": "text/x-python",
   "name": "python",
   "nbconvert_exporter": "python",
   "pygments_lexer": "ipython3",
   "version": "3.8.10"
  }
 },
 "nbformat": 4,
 "nbformat_minor": 5
}
