{
 "cells": [
  {
   "cell_type": "markdown",
   "id": "55920928",
   "metadata": {},
   "source": [
    "## Exercise 1 Hello World\n",
    "\n",
    "1. Write an MPI program displaying the number of processes used for the execution and the rank of each process.\n",
    "2. Test the programs obtained with different numbers of threads for the parallel program.\n",
    "\n",
    "**Output Example**\n",
    "```shell\n",
    "Hello from the rank 2 process\n",
    "Hello from the rank 0 process\n",
    "Hello from the rank 3 process\n",
    "Hello from the rank 1 process\n",
    "Parallel execution of hello_world with 4 process\n",
    "```\n",
    "*Note that the output order maybe different*"
   ]
  },
  {
   "cell_type": "code",
   "execution_count": 92,
   "id": "688e6473",
   "metadata": {},
   "outputs": [
    {
     "name": "stdout",
     "output_type": "stream",
     "text": [
      "Overwriting hello.py\n"
     ]
    }
   ],
   "source": [
    " %%file hello.py\n",
    " # write your program here\n",
    "from mpi4py import MPI\n",
    "COMM = MPI.COMM_WORLD\n",
    "SIZE = COMM.Get_size()\n",
    "RANK = COMM.Get_rank()\n",
    "print('Hello from the rank {RANK} process'.format(RANK = RANK))\n",
    "COMM.Barrier()\n",
    "if RANK == 0:\n",
    "    print('Parallel execution of hello_world with {SIZE}\\n'.format(SIZE = SIZE))"
   ]
  },
  {
   "cell_type": "code",
   "execution_count": 49,
   "id": "9bda9d61",
   "metadata": {},
   "outputs": [],
   "source": [
    "# enter command for compile and run the program\n",
    "!mpirun -n 4 python3 hello.py"
   ]
  },
  {
   "cell_type": "markdown",
   "id": "9ff1a47e",
   "metadata": {},
   "source": [
    "## Exercise 2 Sharing Data \n",
    "\n",
    "A common need is for one process to get data from the user, either by reading from the terminal or command line arguments, and then to distribute this information to all other processors.\n",
    "\n",
    "Write a program that reads an integer value from the terminal and distributes the value to all of the MPI processes. Each process should print out its rank and the value it received. Values should be read until a negative integer is given as input.\n",
    "\n",
    "You may want to use these MPI routines in your solution:\n",
    "`Get_rank` `Bcast` \n",
    "\n",
    "**Output Example**\n",
    "```shell\n",
    "10\n",
    "Process 0 got 10\n",
    "Process 1 got 10\n",
    "```"
   ]
  },
  {
   "cell_type": "code",
   "execution_count": 33,
   "id": "781f4cfc",
   "metadata": {},
   "outputs": [
    {
     "name": "stdout",
     "output_type": "stream",
     "text": [
      "Overwriting sharing.py\n"
     ]
    }
   ],
   "source": [
    " %%file sharing.py\n",
    " # write your program here\n",
    "from mpi4py import MPI\n",
    "COMM = MPI.COMM_WORLD\n",
    "RANK = COMM.Get_rank()\n",
    "SIZE = COMM.Get_size()\n",
    "while True:\n",
    "    if RANK == 0:\n",
    "        sendbuf = int(input())\n",
    "    else: \n",
    "        sendbuf = None    \n",
    "    recv = COMM.bcast(sendbuf, root = 0)    \n",
    "    print('Process {RANK} got {data}'.format(RANK = RANK, data = recv))   \n",
    "    if recv < 0: break"
   ]
  },
  {
   "cell_type": "code",
   "execution_count": 4,
   "id": "92e5bc1d",
   "metadata": {},
   "outputs": [
    {
     "name": "stdout",
     "output_type": "stream",
     "text": [
      "^C\r\n"
     ]
    }
   ],
   "source": [
    "# enter command for compile and run the program\n",
    "!mpirun -n 4 python3 sharing.py"
   ]
  },
  {
   "cell_type": "markdown",
   "id": "71a17f72",
   "metadata": {},
   "source": [
    "## Exercise 3 Sending in a ring (broadcast by ring)\n",
    "\n",
    "Write a program that takes data from process zero and sends it to all of the other processes by sending it in a ring. That is, process i should receive the data and send it to process i+1, until the last process is reached.\n",
    "Assume that the data consists of a single integer. Process zero reads the data from the user.\n",
    "![](../data/ring.gif)\n",
    "\n",
    "You may want to use these MPI routines in your solution:\n",
    "`Send` `Recv` "
   ]
  },
  {
   "cell_type": "code",
   "execution_count": 169,
   "id": "8da60d43",
   "metadata": {},
   "outputs": [
    {
     "name": "stdout",
     "output_type": "stream",
     "text": [
      "Overwriting ring.py\n"
     ]
    }
   ],
   "source": [
    "%%file ring.py\n",
    "from mpi4py import MPI\n",
    "COMM = MPI.COMM_WORLD\n",
    "RANK = COMM.Get_rank()\n",
    "SIZE = COMM.Get_size()\n",
    "tag = 100\n",
    "if RANK == 0:\n",
    "    sendbuf = int(input())    \n",
    "    COMM.send(sendbuf, dest = RANK + 1, tag = tag)\n",
    "else:\n",
    "    recvbuf = COMM.recv(source = RANK - 1, tag = tag)\n",
    "    print('I, process',RANK,',I received',recvbuf,'from the process',RANK-1)\n",
    "    if RANK != SIZE - 1:\n",
    "        COMM.send(recvbuf,dest = (RANK + 1)%SIZE, tag = tag)   "
   ]
  },
  {
   "cell_type": "code",
   "execution_count": 170,
   "id": "09f04802",
   "metadata": {},
   "outputs": [],
   "source": [
    "# enter command for compile and run the program\n",
    "!mpirun -n 4 python3 ring.py"
   ]
  },
  {
   "cell_type": "markdown",
   "id": "748ec480",
   "metadata": {},
   "source": [
    "## Exercise 4 Matrix vector product\n",
    "\n",
    "1. Use the `MatrixVectorMult.py` file to implement the MPI version of matrix vector multiplication.\n",
    "2. Process 0 compares the result with the `dot` product.\n",
    "3. Plot the scalability of your implementation. \n",
    "\n",
    "**Output Example**\n",
    "```shell\n",
    "CPU time of parallel multiplication using 2 processes is  174.923446\n",
    "The error comparing to the dot product is : 1.4210854715202004e-14\n",
    "```"
   ]
  },
  {
   "cell_type": "code",
   "execution_count": 69,
   "id": "273553a9",
   "metadata": {},
   "outputs": [
    {
     "name": "stdout",
     "output_type": "stream",
     "text": [
      "Overwriting MatrixVectorMult_V0.py\n"
     ]
    }
   ],
   "source": [
    " %%file MatrixVectorMult_V0.py\n",
    " # write your program here\n",
    "import time \n",
    "import numpy as np\n",
    "from scipy.sparse import lil_matrix\n",
    "from numpy.random import rand, seed\n",
    "from numba import njit\n",
    "from mpi4py import MPI\n",
    "\n",
    "\n",
    "''' This program compute parallel csc matrix vector multiplication using mpi '''\n",
    "\n",
    "COMM = MPI.COMM_WORLD\n",
    "nbOfproc = COMM.Get_size()\n",
    "RANK = COMM.Get_rank()\n",
    "\n",
    "seed(42)\n",
    "\n",
    "def matrixVectorMult(A, b, x):\n",
    "    \n",
    "    row, col = A.shape\n",
    "    for i in range(row):\n",
    "        a = A[i]\n",
    "        for j in range(col):\n",
    "            x[i] += a[j] * b[j]\n",
    "\n",
    "    return 0\n",
    "\n",
    "########################initialize matrix A and vector b ######################\n",
    "#matrix sizes\n",
    "SIZE = 1000\n",
    "Local_size = SIZE // nbOfproc\n",
    "\n",
    "\n",
    "# counts = block of each proc\n",
    "proc_block = Local_size * SIZE\n",
    "counts =  [proc_block for i in range(nbOfproc)]\n",
    "\n",
    "if RANK == 0:\n",
    "    A = lil_matrix((SIZE, SIZE))\n",
    "    A[0, :100] = rand(100)\n",
    "    A[1, 100:200] = A[0, :100]\n",
    "    A.setdiag(rand(SIZE))\n",
    "    A = A.toarray()\n",
    "    b = rand(SIZE)\n",
    "else :\n",
    "    A = None\n",
    "    b = None\n",
    "\n",
    "\n",
    "\n",
    "#########Send b to all procs and scatter A (each proc has its own local matrix#####\n",
    "LocalMatrix = np.empty((Local_size, SIZE), dtype = np.float64)\n",
    "b = COMM.bcast(b, root = 0)\n",
    "# Scatter the matrix A\n",
    "COMM.Scatterv([A, counts, MPI.DOUBLE], LocalMatrix, root = 0)\n",
    "#####################Compute A*b locally#######################################\n",
    "LocalX = np.zeros(Local_size)\n",
    "start = MPI.Wtime()\n",
    "matrixVectorMult(LocalMatrix, b, LocalX)\n",
    "stop = MPI.Wtime()\n",
    "if RANK == 0:\n",
    "    print(\"CPU time of parallel multiplication using\", nbOfproc,\"processes is \", (stop - start)*1000)\n",
    "\n",
    "\n",
    "##################Gather te results ###########################################\n",
    "# sendcouns = local size of result\n",
    "sendcounts = [Local_size for i in range(nbOfproc)] \n",
    "if RANK == 0: \n",
    "    X = np.empty(SIZE, dtype = np.float64)\n",
    "else :\n",
    "    X = None\n",
    "\n",
    "# Gather the result into X\n",
    "COMM.Gatherv(LocalX,[X, sendcounts, MPI.DOUBLE], root = 0)\n",
    "\n",
    "##################Print the results ###########################################\n",
    "\n",
    "if RANK == 0 :\n",
    "    X_ = A.dot(b)\n",
    "    print(\"The error comparing to the dot product is :\", np.max(X_ - X))"
   ]
  },
  {
   "cell_type": "code",
   "execution_count": 48,
   "id": "cdd487e8",
   "metadata": {},
   "outputs": [],
   "source": [
    "# enter command for compile and run the program\n",
    "!mpirun -n 2 python3 MatrixVectorMult_V0.py"
   ]
  },
  {
   "cell_type": "markdown",
   "id": "2203fa68",
   "metadata": {},
   "source": [
    "## Exercise 5 Calculation of π (Monte Carlo)\n",
    "\n",
    "1. Use the `PiMonteCarlo.py` file to implement the calculation of PI using Monte Carlo.\n",
    "2. Process 0 prints the result.\n",
    "3. Plot the scalability of your implementation. "
   ]
  },
  {
   "cell_type": "code",
   "execution_count": 131,
   "id": "abaf1a0a",
   "metadata": {},
   "outputs": [
    {
     "name": "stdout",
     "output_type": "stream",
     "text": [
      "Overwriting PiMonteCarlo_V0.py\n"
     ]
    }
   ],
   "source": [
    " %%file PiMonteCarlo_V0.py\n",
    " # write your program here\n",
    "import random \n",
    "import timeit\n",
    "from mpi4py import MPI\n",
    "\n",
    "\n",
    "COMM = MPI.COMM_WORLD\n",
    "nbOfproc = COMM.Get_size()\n",
    "RANK = COMM.Get_rank()\n",
    "\n",
    "INTERVAL = 1000 ** 2\n",
    "#Local interval for each proc\n",
    "Local_int = INTERVAL //nbOfproc \n",
    "random.seed(42)  \n",
    "\n",
    "def compute_points():\n",
    "    \n",
    "    random.seed(42)  \n",
    "    \n",
    "    circle_points= 0\n",
    "\n",
    "    # Total Random numbers generated= possible x \n",
    "    # values* possible y values \n",
    "    for i in range(Local_int): \n",
    "      \n",
    "        # Randomly generated x and y values from a \n",
    "        # uniform distribution \n",
    "        # Rannge of x and y values is -1 to 1 \n",
    "                \n",
    "        rand_x= random.uniform(-1, 1) \n",
    "        rand_y= random.uniform(-1, 1) \n",
    "      \n",
    "        # Distance between (x, y) from the origin \n",
    "        origin_dist= rand_x**2 + rand_y**2\n",
    "      \n",
    "        # Checking if (x, y) lies inside the circle \n",
    "        if origin_dist<= 1: \n",
    "            circle_points+= 1\n",
    "      \n",
    "        # Estimating value of pi, \n",
    "        # pi= 4*(no. of points generated inside the  \n",
    "        # circle)/ (no. of points generated inside the square) \n",
    "    \n",
    "     \n",
    "    \n",
    "    return circle_points\n",
    "\n",
    "\n",
    "start = timeit.default_timer()\n",
    "circle_points = compute_points()\n",
    "end = timeit.default_timer()\n",
    "\n",
    "#Return the sum of all circle points to the process 0\n",
    "circle_points = COMM.reduce(circle_points, op = MPI.SUM, root = 0)\n",
    "if RANK == 0:\n",
    "    pi = 4* circle_points/ INTERVAL\n",
    "    print(\"Circle points number :\",circle_points)\n",
    "    print(\"Final Estimation of Pi=\", pi, \"cpu time :\",(end-start) * 1000) \n"
   ]
  },
  {
   "cell_type": "code",
   "execution_count": 2,
   "id": "bd77039d",
   "metadata": {},
   "outputs": [
    {
     "data": {
      "text/plain": [
       "Text(0, 0.5, 'CPU time (ms)')"
      ]
     },
     "execution_count": 2,
     "metadata": {},
     "output_type": "execute_result"
    },
    {
     "data": {
      "image/png": "[encoded data removed]",
      "text/plain": [
       "<Figure size 504x360 with 1 Axes>"
      ]
     },
     "metadata": {
      "needs_background": "light"
     },
     "output_type": "display_data"
    }
   ],
   "source": [
    "import numpy as np\n",
    "import matplotlib.pyplot as plt\n",
    "procs = [1,2,3,4]\n",
    "time = [960.3, 676.2, 572.15, 364.30]\n",
    "plt.figure(figsize=(7, 5))\n",
    "plt.plot(procs, time,'-or')\n",
    "plt.xlabel('Processes')\n",
    "plt.ylabel('CPU time (ms)')"
   ]
  }
 ],
 "metadata": {
  "hide_input": false,
  "kernelspec": {
   "display_name": "Python 3 (ipykernel)",
   "language": "python",
   "name": "python3"
  },
  "language_info": {
   "codemirror_mode": {
    "name": "ipython",
    "version": 3
   },
   "file_extension": ".py",
   "mimetype": "text/x-python",
   "name": "python",
   "nbconvert_exporter": "python",
   "pygments_lexer": "ipython3",
   "version": "3.9.2"
  }
 },
 "nbformat": 4,
 "nbformat_minor": 5
}
