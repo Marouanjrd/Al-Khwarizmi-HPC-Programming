{
  "cells": [
    {
      "cell_type": "markdown",
      "metadata": {
        "id": "bAo_X22mBuXw"
      },
      "source": [
        "## Imports"
      ]
    },
    {
      "cell_type": "code",
      "execution_count": null,
      "metadata": {
        "id": "wSNvfDGrBuX3"
      },
      "outputs": [],
      "source": [
        "import numpy as np\n",
        "import matplotlib.pyplot as plt"
      ]
    },
    {
      "cell_type": "markdown",
      "metadata": {
        "id": "LpyKIzO5BuX5"
      },
      "source": [
        "## Linear convection without CFL"
      ]
    },
    {
      "cell_type": "code",
      "execution_count": null,
      "metadata": {
        "id": "CjGpoQfCBuX6"
      },
      "outputs": [],
      "source": [
        "def linearconv_withoutCFL(u, nx, nt, dx):\n",
        "    dt = .025  \n",
        "    c = 1.\n",
        "    un=np.zeros(len(u))\n",
        "    for n in range(nt):  \n",
        "        for i in range(nx): un[i] = u[i]\n",
        "        for i in range(1, nx): \n",
        "            u[i] = un[i] - c * dt / dx * (un[i] - un[i-1])\n",
        "    #fill the update of u\n",
        "    return 0"
      ]
    },
    {
      "cell_type": "markdown",
      "metadata": {
        "id": "dbspiMRKBuX7"
      },
      "source": [
        "## Linear convection with CFL"
      ]
    },
    {
      "cell_type": "code",
      "execution_count": null,
      "metadata": {
        "id": "N6tC31eMBuX7"
      },
      "outputs": [],
      "source": [
        "def linearconv_withCFL(u, nx, nt, dx):\n",
        "    c = 1.\n",
        "    CFL = 0.8\n",
        "    dt = CFL*dx/np.fabs(c) \n",
        "    un=np.zeros(len(u))\n",
        "    for n in range(nt):  \n",
        "        for i in range(nx): un[i] = u[i]\n",
        "        for i in range(1, nx): \n",
        "            u[i] = un[i] - c * dt / dx * (un[i] - un[i-1])\n",
        "\n",
        "        \n",
        "    return 0"
      ]
    },
    {
      "cell_type": "markdown",
      "metadata": {
        "id": "eBTLpeTlBuX8"
      },
      "source": [
        "## Inputs"
      ]
    },
    {
      "cell_type": "code",
      "execution_count": null,
      "metadata": {
        "id": "SsNg1MnVBuX9"
      },
      "outputs": [],
      "source": [
        "nx = 91 #change to 83, 85, 91, ... what do you remark ?\n",
        "dx = 2 / (nx - 1)\n",
        "nt = 20    \n",
        "\n",
        "grid = np.linspace(0,2,nx) \n",
        "u0 = np.ones(nx)      \n",
        "u0[int(.5/dx):int(1 / dx + 1)] = 2  "
      ]
    },
    {
      "cell_type": "markdown",
      "metadata": {
        "id": "dGCpcApSBuX-"
      },
      "source": [
        "# interpretation : on remarque que notre schéma n'est pas stable en utilisant Function without CFL lorsque nx est supérieur à 82 car pour des valeurs inférieures à 82 le shéma reste stable tenant compte des input utilisées. Ceci corrobore le résultat  analytique. A cet effet on va faire recours à Function with CFL\n"
      ]
    },
    {
      "cell_type": "markdown",
      "metadata": {
        "id": "CoUQ0_DmBuX_"
      },
      "source": [
        "## Call Funtions"
      ]
    },
    {
      "cell_type": "markdown",
      "metadata": {
        "id": "oMdXnVd7BuX_"
      },
      "source": [
        "### Function without CFL"
      ]
    },
    {
      "cell_type": "code",
      "execution_count": null,
      "metadata": {
        "id": "N5QpXYfRBuYA",
        "outputId": "8027255c-43ca-49f7-a600-7f16c92054a8"
      },
      "outputs": [
        {
          "data": {
            "text/plain": [
              "Text(0.5, 1.0, '1D Linear Convection')"
            ]
          },
          "execution_count": 36,
          "metadata": {},
          "output_type": "execute_result"
        },
        {
          "data": {
            "image/png": "[encoded data removed]",
            "text/plain": [
              "<Figure size 432x288 with 1 Axes>"
            ]
          },
          "metadata": {
            "needs_background": "light"
          },
          "output_type": "display_data"
        }
      ],
      "source": [
        "u = u0.copy()\n",
        "linearconv_withoutCFL(u, nx, nt, dx)\n",
        "\n",
        "plt.plot(grid,u0);\n",
        "plt.plot(grid,u);\n",
        "plt.ylim([1.,2.2])\n",
        "plt.xlabel('X')\n",
        "plt.ylabel('Velocity')    \n",
        "plt.title('1D Linear Convection')  "
      ]
    },
    {
      "cell_type": "markdown",
      "metadata": {
        "id": "CQFwP233BuYB"
      },
      "source": [
        "### Function with CFL"
      ]
    },
    {
      "cell_type": "code",
      "execution_count": null,
      "metadata": {
        "id": "pQ2uJD9yBuYB",
        "outputId": "d2b76a18-691a-44e2-d3b4-fbe0e834c943"
      },
      "outputs": [
        {
          "data": {
            "text/plain": [
              "Text(0.5, 1.0, '1D Linear Convection')"
            ]
          },
          "execution_count": 37,
          "metadata": {},
          "output_type": "execute_result"
        },
        {
          "data": {
            "image/png": "[encoded data removed]",
            "text/plain": [
              "<Figure size 432x288 with 1 Axes>"
            ]
          },
          "metadata": {
            "needs_background": "light"
          },
          "output_type": "display_data"
        }
      ],
      "source": [
        "u = u0.copy()\n",
        "linearconv_withCFL(u, nx, nt, dx)\n",
        "\n",
        "plt.plot(grid,u0);\n",
        "plt.plot(grid,u);\n",
        "plt.ylim([1.,2.2])\n",
        "plt.xlabel('X')\n",
        "plt.ylabel('Velocity')    \n",
        "plt.title('1D Linear Convection') "
      ]
    },
    {
      "cell_type": "code",
      "execution_count": null,
      "metadata": {
        "id": "xkLWoz5gBuYC"
      },
      "outputs": [],
      "source": [
        ""
      ]
    }
  ],
  "metadata": {
    "hide_input": false,
    "kernelspec": {
      "display_name": "Python 3 (ipykernel)",
      "language": "python",
      "name": "python3"
    },
    "language_info": {
      "codemirror_mode": {
        "name": "ipython",
        "version": 3
      },
      "file_extension": ".py",
      "mimetype": "text/x-python",
      "name": "python",
      "nbconvert_exporter": "python",
      "pygments_lexer": "ipython3",
      "version": "3.9.7"
    },
    "colab": {
      "name": "1D_LinearConvectionCFL.ipynb",
      "provenance": []
    }
  },
  "nbformat": 4,
  "nbformat_minor": 0
}