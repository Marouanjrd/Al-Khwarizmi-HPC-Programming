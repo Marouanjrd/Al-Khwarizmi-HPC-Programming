{
  "cells": [
    {
      "cell_type": "markdown",
      "metadata": {
        "id": "bg7BL3QECya7"
      },
      "source": [
        "## Imports"
      ]
    },
    {
      "cell_type": "code",
      "execution_count": 1,
      "metadata": {
        "colab": {
          "base_uri": "https://localhost:8080/"
        },
        "id": "x9wsqksfCybD",
        "outputId": "702d10d7-6780-44dd-d9e4-50149fb1f9d1"
      },
      "outputs": [
        {
          "output_type": "stream",
          "name": "stdout",
          "text": [
            "Collecting pyccel\n",
            "  Downloading pyccel-1.4.4-py3-none-any.whl (350 kB)\n",
            "\u001b[?25l\r\u001b[K     |█                               | 10 kB 20.3 MB/s eta 0:00:01\r\u001b[K     |█▉                              | 20 kB 21.5 MB/s eta 0:00:01\r\u001b[K     |██▉                             | 30 kB 25.2 MB/s eta 0:00:01\r\u001b[K     |███▊                            | 40 kB 16.4 MB/s eta 0:00:01\r\u001b[K     |████▊                           | 51 kB 14.5 MB/s eta 0:00:01\r\u001b[K     |█████▋                          | 61 kB 16.4 MB/s eta 0:00:01\r\u001b[K     |██████▌                         | 71 kB 16.2 MB/s eta 0:00:01\r\u001b[K     |███████▌                        | 81 kB 15.2 MB/s eta 0:00:01\r\u001b[K     |████████▍                       | 92 kB 16.5 MB/s eta 0:00:01\r\u001b[K     |█████████▍                      | 102 kB 16.0 MB/s eta 0:00:01\r\u001b[K     |██████████▎                     | 112 kB 16.0 MB/s eta 0:00:01\r\u001b[K     |███████████▎                    | 122 kB 16.0 MB/s eta 0:00:01\r\u001b[K     |████████████▏                   | 133 kB 16.0 MB/s eta 0:00:01\r\u001b[K     |█████████████                   | 143 kB 16.0 MB/s eta 0:00:01\r\u001b[K     |██████████████                  | 153 kB 16.0 MB/s eta 0:00:01\r\u001b[K     |███████████████                 | 163 kB 16.0 MB/s eta 0:00:01\r\u001b[K     |████████████████                | 174 kB 16.0 MB/s eta 0:00:01\r\u001b[K     |████████████████▉               | 184 kB 16.0 MB/s eta 0:00:01\r\u001b[K     |█████████████████▉              | 194 kB 16.0 MB/s eta 0:00:01\r\u001b[K     |██████████████████▊             | 204 kB 16.0 MB/s eta 0:00:01\r\u001b[K     |███████████████████▋            | 215 kB 16.0 MB/s eta 0:00:01\r\u001b[K     |████████████████████▋           | 225 kB 16.0 MB/s eta 0:00:01\r\u001b[K     |█████████████████████▌          | 235 kB 16.0 MB/s eta 0:00:01\r\u001b[K     |██████████████████████▌         | 245 kB 16.0 MB/s eta 0:00:01\r\u001b[K     |███████████████████████▍        | 256 kB 16.0 MB/s eta 0:00:01\r\u001b[K     |████████████████████████▎       | 266 kB 16.0 MB/s eta 0:00:01\r\u001b[K     |█████████████████████████▎      | 276 kB 16.0 MB/s eta 0:00:01\r\u001b[K     |██████████████████████████▏     | 286 kB 16.0 MB/s eta 0:00:01\r\u001b[K     |███████████████████████████▏    | 296 kB 16.0 MB/s eta 0:00:01\r\u001b[K     |████████████████████████████    | 307 kB 16.0 MB/s eta 0:00:01\r\u001b[K     |█████████████████████████████   | 317 kB 16.0 MB/s eta 0:00:01\r\u001b[K     |██████████████████████████████  | 327 kB 16.0 MB/s eta 0:00:01\r\u001b[K     |██████████████████████████████▉ | 337 kB 16.0 MB/s eta 0:00:01\r\u001b[K     |███████████████████████████████▉| 348 kB 16.0 MB/s eta 0:00:01\r\u001b[K     |████████████████████████████████| 350 kB 16.0 MB/s \n",
            "\u001b[?25hRequirement already satisfied: sympy>=1.2 in /usr/local/lib/python3.7/dist-packages (from pyccel) (1.7.1)\n",
            "Collecting textx>=2.2\n",
            "  Downloading textX-3.0.0-py2.py3-none-any.whl (74 kB)\n",
            "\u001b[K     |████████████████████████████████| 74 kB 3.2 MB/s \n",
            "\u001b[?25hRequirement already satisfied: numpy in /usr/local/lib/python3.7/dist-packages (from pyccel) (1.21.5)\n",
            "Requirement already satisfied: filelock in /usr/local/lib/python3.7/dist-packages (from pyccel) (3.6.0)\n",
            "Requirement already satisfied: termcolor in /usr/local/lib/python3.7/dist-packages (from pyccel) (1.1.0)\n",
            "Requirement already satisfied: mpmath>=0.19 in /usr/local/lib/python3.7/dist-packages (from sympy>=1.2->pyccel) (1.2.1)\n",
            "Collecting Arpeggio>=2.0.0\n",
            "  Downloading Arpeggio-2.0.0-py2.py3-none-any.whl (54 kB)\n",
            "\u001b[K     |████████████████████████████████| 54 kB 3.2 MB/s \n",
            "\u001b[?25hRequirement already satisfied: future in /usr/local/lib/python3.7/dist-packages (from textx>=2.2->pyccel) (0.16.0)\n",
            "Installing collected packages: Arpeggio, textx, pyccel\n",
            "Successfully installed Arpeggio-2.0.0 pyccel-1.4.4 textx-3.0.0\n"
          ]
        }
      ],
      "source": [
        "!pip install pyccel"
      ]
    },
    {
      "cell_type": "code",
      "execution_count": 2,
      "metadata": {
        "id": "tjABdOkcCybF"
      },
      "outputs": [],
      "source": [
        "import numpy as np\n",
        "import matplotlib.pyplot as plt\n",
        "import time\n",
        "from numba import njit\n",
        "from pyccel.epyccel import epyccel\n",
        "from pyccel.decorators import types"
      ]
    },
    {
      "cell_type": "markdown",
      "metadata": {
        "id": "vp6LPwcOCybG"
      },
      "source": [
        "## Pure python function"
      ]
    },
    {
      "cell_type": "code",
      "execution_count": 3,
      "metadata": {
        "id": "FzdxATSBCybH"
      },
      "outputs": [],
      "source": [
        "def solve_1d_nonlinearconv_pure(u, un, nt, nx, dt, dx):\n",
        "    \n",
        "    for n in range(nt):\n",
        "        un = u.copy()\n",
        "        for i in range(1, nx):\n",
        "            u[i] = un[i] - un[i] * dt / dx * (un[i] - un[i-1])\n",
        "    \n",
        "    return 0"
      ]
    },
    {
      "cell_type": "markdown",
      "metadata": {
        "id": "tVUGpU0ZCybI"
      },
      "source": [
        "## Numba accelerator"
      ]
    },
    {
      "cell_type": "code",
      "execution_count": 4,
      "metadata": {
        "id": "EsCAb81WCybI"
      },
      "outputs": [],
      "source": [
        "@njit(fastmath=True)\n",
        "def solve_1d_nonlinearconv_numba(u, un, nt, nx, dt, dx):\n",
        "    for n in range(nt):\n",
        "        un = u.copy()\n",
        "        for i in range(1, nx):\n",
        "            u[i] = un[i] - un[i] * dt / dx * (un[i] - un[i-1])\n",
        "    \n",
        "    return 0"
      ]
    },
    {
      "cell_type": "markdown",
      "metadata": {
        "id": "gqbXxPjvCybJ"
      },
      "source": [
        "## Pyccel accelerator"
      ]
    },
    {
      "cell_type": "code",
      "execution_count": 6,
      "metadata": {
        "id": "Pd5lDnx1CybK"
      },
      "outputs": [],
      "source": [
        "def solve_1d_nonlinearconv_pyccel(u:'float[:]', un:'float[:]', nt:'int', nx:'int', dt:'float', dx:'float'):\n",
        "\n",
        "    for n in range(nt):\n",
        "        un[:] = u[:]\n",
        "        for i in range(1, nx):\n",
        "            u[i] = un[i] - un[i] * dt / dx * (un[i] - un[i-1])\n",
        "    \n",
        "    \n",
        "    return 0"
      ]
    },
    {
      "cell_type": "markdown",
      "metadata": {
        "id": "IhA8swwJCybL"
      },
      "source": [
        "## Inputs"
      ]
    },
    {
      "cell_type": "code",
      "execution_count": 7,
      "metadata": {
        "colab": {
          "base_uri": "https://localhost:8080/",
          "height": 312
        },
        "id": "N3gqKvv_CybM",
        "outputId": "df8fa35f-22b3-421f-dee2-6bcf907780a0"
      },
      "outputs": [
        {
          "output_type": "execute_result",
          "data": {
            "text/plain": [
              "Text(0.5, 1.0, '1D Linear Convection')"
            ]
          },
          "metadata": {},
          "execution_count": 7
        },
        {
          "output_type": "display_data",
          "data": {
            "text/plain": [
              "<Figure size 432x288 with 1 Axes>"
            ],
            "image/png": "[encoded data removed]"
          },
          "metadata": {
            "needs_background": "light"
          }
        }
      ],
      "source": [
        "nx = 80  # try changing this number from 41 to 81 and Run All ... what happens?\n",
        "dx = 2 / (nx-1)\n",
        "nt =200 #nt is the number of timesteps we want to calculate\n",
        "dt = 0.001\n",
        "grid = np.linspace(0,2,nx) # creating the space grid    \n",
        "\n",
        "u0 = np.ones(nx)      #numpy function ones()\n",
        "u0[int(.5 / dx):int(1 / dx + 1)] = 2  #setting u = 2 between 0.5 and 1 as per our I.C.s\n",
        "plt.plot(grid,u0)\n",
        "u = u0.copy()\n",
        "un = np.ones(nx)\n",
        "\n",
        "solve_1d_nonlinearconv_pure(u, un, nt, nx, dt, dx)\n",
        "#Plotting data\n",
        "plt.plot(grid,u);\n",
        "plt.ylim([1.,2.2])\n",
        "plt.xlabel('X')\n",
        "plt.ylabel('Velocity')    \n",
        "plt.title('1D Linear Convection')"
      ]
    },
    {
      "cell_type": "markdown",
      "metadata": {
        "id": "--xNPmm9CybN"
      },
      "source": [
        "#### interprétation : lorsque on effectue des modifications sur nt et nx , on constate que le graphe démontre l'éxistance en plus du transport une diffusion et cette diffusion est liée à l'effet de descritisation qui engendre une perte d'information "
      ]
    },
    {
      "cell_type": "markdown",
      "metadata": {
        "id": "JmTHA4oxCybN"
      },
      "source": [
        "## Call Funtions"
      ]
    },
    {
      "cell_type": "markdown",
      "metadata": {
        "id": "1Dt9Q-29CybO"
      },
      "source": [
        "### Pure function"
      ]
    },
    {
      "cell_type": "code",
      "execution_count": 8,
      "metadata": {
        "colab": {
          "base_uri": "https://localhost:8080/"
        },
        "id": "irYWKZ1aCybO",
        "outputId": "e9e4eb06-373b-4b12-f38c-cfe5e6534388"
      },
      "outputs": [
        {
          "output_type": "stream",
          "name": "stdout",
          "text": [
            "10 loops, best of 5: 16.3 ms per loop\n"
          ]
        }
      ],
      "source": [
        "%timeit solve_1d_nonlinearconv_pure(u, un, nt, nx, dt, dx)"
      ]
    },
    {
      "cell_type": "markdown",
      "metadata": {
        "id": "gs6g7JODCybO"
      },
      "source": [
        "### Function with numba accelerator"
      ]
    },
    {
      "cell_type": "code",
      "execution_count": 9,
      "metadata": {
        "colab": {
          "base_uri": "https://localhost:8080/"
        },
        "id": "-yEu7gqCCybP",
        "outputId": "d0267c60-a327-414d-8019-c716810db951"
      },
      "outputs": [
        {
          "output_type": "stream",
          "name": "stdout",
          "text": [
            "The slowest run took 13816.32 times longer than the fastest. This could mean that an intermediate result is being cached.\n",
            "1 loop, best of 5: 26.8 µs per loop\n"
          ]
        }
      ],
      "source": [
        "%timeit solve_1d_nonlinearconv_numba(u, un, nt, nx, dt, dx)"
      ]
    },
    {
      "cell_type": "markdown",
      "metadata": {
        "id": "8yEj87O8CybP"
      },
      "source": [
        "### Function with pyccel accelerator"
      ]
    },
    {
      "cell_type": "code",
      "execution_count": 10,
      "metadata": {
        "id": "U2Xzaf2hCybP"
      },
      "outputs": [],
      "source": [
        "solve_1d_nonlinearconv_f90 = epyccel(solve_1d_nonlinearconv_pyccel)"
      ]
    },
    {
      "cell_type": "code",
      "execution_count": 11,
      "metadata": {
        "colab": {
          "base_uri": "https://localhost:8080/"
        },
        "id": "qgVTpv_oCybQ",
        "outputId": "7a89a1eb-911e-4321-f25f-def1310c1df2"
      },
      "outputs": [
        {
          "output_type": "stream",
          "name": "stdout",
          "text": [
            "10000 loops, best of 5: 22.8 µs per loop\n"
          ]
        }
      ],
      "source": [
        "%timeit solve_1d_nonlinearconv_f90(u, un, nt, nx, dt, dx)"
      ]
    },
    {
      "cell_type": "code",
      "execution_count": null,
      "metadata": {
        "id": "E1R7AoTUCybQ"
      },
      "outputs": [],
      "source": [
        ""
      ]
    }
  ],
  "metadata": {
    "kernelspec": {
      "display_name": "Python 3 (ipykernel)",
      "language": "python",
      "name": "python3"
    },
    "language_info": {
      "codemirror_mode": {
        "name": "ipython",
        "version": 3
      },
      "file_extension": ".py",
      "mimetype": "text/x-python",
      "name": "python",
      "nbconvert_exporter": "python",
      "pygments_lexer": "ipython3",
      "version": "3.9.7"
    },
    "colab": {
      "name": "1D_NonLinearConvection.ipynb",
      "provenance": [],
      "collapsed_sections": []
    }
  },
  "nbformat": 4,
  "nbformat_minor": 0
}